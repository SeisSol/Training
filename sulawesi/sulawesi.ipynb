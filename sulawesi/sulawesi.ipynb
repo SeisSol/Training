{
 "cells": [
  {
   "cell_type": "markdown",
   "metadata": {},
   "source": [
    "# Training example, the 2018 Mw7.5 Palu, Sulawesi earthquake\n",
    "\n",
    "This is a low-resolution version of the complex 3D dynamic rupture model published in [Ulrich et al., 2019](https://link.springer.com/article/10.1007/s00024-019-02290-5).\n",
    "\n",
    "All files to reproduce the published high-resolution are freely available at [zenodo](https://zenodo.org/record/3234664#.YVFmIi8Ro6h). \n",
    "\n",
    "This dynamic rupture earthquake scenario, featuring sustained supershear rupture propagation, matches key earthquake observational data, including its moment magnitude, rupture duration, fault plane solution, teleseismic waveforms, and inferred horizontal ground displacements. All faults are loaded by a uniform stress regime reflecting regional transtension which leads to spontaneous accumulation of a combination of up to 6 m left-lateral slip and up to 2 m normal slip on the fault segment dipping 65 degrees East beneath Palu Bay. We will see that the dynamic rupture model produces overall left-lateral, dominantly strike-slip faulting across the curved, bend, connected fault segments. \n",
    "![](Ulrich19_Fig1.png)\n",
    "*Tectonic setting of the September 28, 2018 Mw 7.5 Sulawesi\n",
    "earthquake (epicenter indicated by yellow star). Black lines indicate plate boundaries based on Bird (2003); Socquet et al. (2006); Argus et al. (2011). BH = Bird’s Head plate, BS = Banda Sea plate, MF = Matano fault zone, PKF = Palu-Koro fault zone, MS = Molucca Sea plate, SSF = Sula-Sorong fault zone, TI = Timor plate. Arrows indicate the far-field plate velocities with respect to Eurasia (Socquet et al. 2006). The black box corresponds to the region zoomed-in in b. b A zoom of the region of interest. The site of the harbor tide gauge of Pantoloan is indicated as well as the city of Palu. Locations of the GPS stations at which we provide synthetic ground displacement time series (see Appendix 7.2) are indicated by the red triangles. Focal mechanisms and epicenters of the September 28, 2018 Palu earthquake (USGS (2018a), top), October 1, 2018 Palu aftershock (middle), and earlier January 23, 2005 Sulawesi earthquake (bottom) are shown. The latter two events provide constraints on the dip angles of individual segments of the fault network. Individual fault segments of the Palu-Koro fault used in the dynamic rupture model are coloured. c, d, e 3D model of the fault network viewed from top, SW and S.*\n"
   ]
  },
  {
   "cell_type": "markdown",
   "metadata": {},
   "source": [
    "## Mesh\n",
    "\n",
    "To build 3D models with complicated geometries that are beyond the capabilities of gmsh we are using [SimModeler](http://www.simmetrix.com/index.php/simmodeler/overview), a software that is free for academic use. \n",
    "The necessary mesh generation steps include:\n",
    "1. CAD 1: Creating a high-resolution topography and bathymetry which represent the model's free surface. Merging it with a simple 3D volume (e.g. a box);\n",
    "2. CAD 2: Creating the complex fault network constrained by fault traces and varying fault dip and intersect all faults with each other and with topo-bathymetry in a manifold manner;\n",
    "3. Mesh: Automatic volumetric meshing using unstructured tetrahedral elements. Keep in mind our two differing resolution criteria: the CFL criterion determines the required resolution for the wave propagation, and the dynamic rupture process zone/cohesive zone size, the region behind the rupture front where the fault strength drops from its static to dynamic level ([Day et al., 2005](https://agupubs.onlinelibrary.wiley.com/doi/abs/10.1029/2005jb003813); for SeisSol: [Wollherr et al., 2018](https://academic.oup.com/gji/article/214/3/1556/5017447?login=true)).\n",
    "\n",
    "We recorded two (non-narrated) demos of all meshing steps using Simmodeler and a few simple scripts available in the SeisSol repository for the Palu, Sulawesi model, which are available [here](https://drive.google.com/file/d/1Y3mTAoPTAyUMdXfTzW_Ap62u4EpJM0Zf/view?usp=sharing) and [here](https://drive.google.com/file/d/1ts3QZCWUeHMwB3ZEhUpV-CmNcG-4Vwj8/view?usp=sharing).\n",
    "\n",
    "For this training, we provide a pre-prepared smaller mesh file (approx. 215,000 elements out of which 12,000 carry a dynamic rupture interface condition) and first visualize it. The prescribed resolution here is 800 m element edge length everywhere on the fault, and static mesh-coarsening away from the fault system. The published high-resolution mesh, for comparison, consists of 8 million elements, decreasing the shortest element edge lengths to 200 m close to faults."
   ]
  },
  {
   "cell_type": "code",
   "execution_count": null,
   "metadata": {},
   "outputs": [],
   "source": [
    "import vtk\n",
    "import pyvista as pv\n",
    "\n",
    "reader = vtk.vtkXdmfReader()\n",
    "reader.SetFileName('Sulawesi_65dip_straightBay_ShortNorth_micro.xdmf')\n",
    "reader.Update()\n",
    "mesh = pv.wrap(reader.GetOutput())\n",
    "elevation = mesh.elevation(low_point=(0, 0, -800), high_point=(0, 0, 2970))\n",
    "pv.plot(elevation, cmap='terrain', background='grey', show_edges=False, jupyter_backend='static')"
   ]
  },
  {
   "cell_type": "markdown",
   "metadata": {},
   "source": [
    "## Run the code"
   ]
  },
  {
   "cell_type": "markdown",
   "metadata": {},
   "source": [
    "In the following, we start SeisSol using one of the parameter files provided in the sulawesi training directory. Note, that we here combine two 3D heterogeneous subsurface velocity data sets using [ASAGI](https://seissol.readthedocs.io/en/latest/asagi.html), our open-source software for efficient reading, interpolation, and writing of parallel, adaptive geoinformation ([Rettenberger et al., 2016](http://dl.acm.org/citation.cfm?id=2938618)).\n",
    "\n",
    "This is how the high-resolution rupture governed by rapid velocity-weakening rate-and-state friction looks like:\n",
    "![](Ulrich19_Fig3.png)\n",
    "*a) Snapshot of the wavefield (absolute particle velocity in m/s) and the slip rate (in m/s) across the fault network at a rupture time of 15 s. b) Overview of the simulated rupture propagation. Snapshots of the absolute slip rate are shown at a rupture time of 2, 9, 13, 23, and 28 s. Labels indicate noteworthy features of the rupture*\n",
    "\n",
    "\n",
    "\n",
    "Please adjust the OMP_NUM_THREADS variable to match the number of cores on your PC. This simulation will run for some time (1,5 - 2,5 hours). In case of trouble try allowing for more RAM (ideally 5-8 GB) in the settings of docker.\n",
    "\n",
    "Note: our published model includes fast velocity-weakening rate-and-state friction ([Dunham et al. 2011](https://pubs.geoscienceworld.org/ssa/bssa/article/101/5/2296/326473/Earthquake-Ruptures-with-Strongly-Rate-Weakening)), which will run faster if compiled with a commercial compiler such as intel, as available on most clusters. The here provided SeisSol rate-and-state implementation is comparably slow when compiled with the gnu compiler, since the auto-vectorization of the math functions does not work very well with gcc. \n",
    "\n",
    "The training example uses linear slip-weakening friction. You can change to fast velocity-weakening rate-and-state friction by changing the parameter file name to 'parametersRS.par'. It's also interesting to compare both parameter files.\n"
   ]
  },
  {
   "cell_type": "code",
   "execution_count": null,
   "metadata": {},
   "outputs": [],
   "source": [
    "!OMP_NUM_THREADS=4 mpirun -n 1 SeisSol_Release_dhsw_4_elastic parametersLSW.par\n",
    "# on Frontera with apptainer, replace with:\n",
    "# !SEISSOL_COMMTHREAD=0 OMP_NUM_THREADS=28 mpirun -n 2 apptainer run {\"~/my-training.sif\"} SeisSol_Release_dhsw_4_elastic parametersLSW.par"
   ]
  },
  {
   "cell_type": "markdown",
   "metadata": {},
   "source": [
    "## Visualization"
   ]
  },
  {
   "cell_type": "markdown",
   "metadata": {},
   "source": [
    "We now visualize what we call the fault output generated by SeisSol. These are the modeled fields across the complex fault surfaces. Note that generating this output includes interpolation, since SeisSol is solving the governing PDEs in their weak form.  We can visualise all processes occurring across the fault surface during dynamic rupture, e.g. slip rates, slip, shear and normal stresses, effective friction etc.\n",
    "\n",
    "If, for some reason, you are not able to run the complete simulation, sample output is available [here]( https://drive.google.com/drive/folders/1KSP2HVbA6hoA-Q8_-OP-q4zmibpWLZCW?usp=sharing) (740 MB) which you can download and copy into a manually created output folder.\n",
    "\n",
    "Check out the [documentation](https://seissol.readthedocs.io/en/latest/fault-output.html#outputmask) for an explanation of the variable names and change 'SRs' to other quantities of interest. Can you identify differences between the linear slip-weakening friction model and the published fast velocity-weakening rate-and-state friction one?"
   ]
  },
  {
   "cell_type": "code",
   "execution_count": null,
   "metadata": {},
   "outputs": [],
   "source": [
    "import vtk\n",
    "import pyvista as pv\n",
    "from ipywidgets import interact\n",
    "\n",
    "reader = vtk.vtkXdmfReader()\n",
    "reader.SetFileName('output/SulawesiLSW-fault.xdmf')\n",
    "reader.Update()\n",
    "cd = reader.GetOutput().GetCellData()\n",
    "variables = [cd.GetArrayName(i) for i in range(cd.GetNumberOfArrays())]\n",
    "\n",
    "@interact(t=(0.0, 30.0, 0.5), var=variables)\n",
    "def plot(t=0.0, var='SRs'):\n",
    "    reader.UpdateTimeStep(t)\n",
    "    mesh = pv.wrap(reader.GetOutput())\n",
    "    plotter = pv.Plotter(notebook=True)\n",
    "    plotter.set_background('grey')\n",
    "    plotter.add_mesh(mesh, cmap='Blues', scalars=var)\n",
    "    plotter.show(jupyter_backend='static')"
   ]
  },
  {
   "cell_type": "markdown",
   "metadata": {},
   "source": [
    "Note that the fault output, as well as all other surface and volume outputs, can be written [asynchronously](https://seissol.readthedocs.io/en/latest/environment-variables.html#asynchronous-output), i.e. specific threads or nodes can be dedicated to write these outputs.\n",
    "\n",
    "Next, we visualize SeisSol's so called [free surface output](https://seissol.readthedocs.io/en/latest/free-surface-output.html). Fields *v1, v2, v3* are the particle velocities and *u1, u2, u3* are the displacements in *x, y, z* direction, respectively, evaluated everywhere at the free surface. \n",
    "\n",
    "Note that the writer outputs additionally a quantity called “locationFlag”, which has the values 0 and 1 when at the elastic or acoustic side of an elastic-acoustic interface (as used in [Krenz et al., 21](https://arxiv.org/abs/2107.06640)). In this manner, we can distinguish between both sides of the interface even though they have the same coordinates. It has the value 2 for an ordinary free surface boundary condition and the value 3 for a free surface with a gravity boundary condition. This value can be used to filter the output (which contains all these surfaces), for example using Paraview’s threshold filter."
   ]
  },
  {
   "cell_type": "code",
   "execution_count": null,
   "id": "0c7ec67e",
   "metadata": {},
   "outputs": [],
   "source": [
    "reader = vtk.vtkXdmfReader()\n",
    "reader.SetFileName('output/SulawesiLSW-surface.xdmf')\n",
    "reader.Update()\n",
    "cd = reader.GetOutput().GetCellData()\n",
    "variables = [cd.GetArrayName(i) for i in range(cd.GetNumberOfArrays())]\n",
    "\n",
    "@interact(t=(0.0, 30.0, 0.25), var=variables)\n",
    "def plot(t=0.0, var='u3'):\n",
    "    reader.UpdateTimeStep(t)\n",
    "    mesh = pv.wrap(reader.GetOutput())\n",
    "    plotter = pv.Plotter(notebook=True)\n",
    "    plotter.set_background('grey')\n",
    "    plotter.add_mesh(mesh, cmap='Blues', scalars=var)\n",
    "    plotter.show(jupyter_backend='static')"
   ]
  },
  {
   "cell_type": "markdown",
   "metadata": {},
   "source": [
    "### Effect of nucleation size on earthquake and ground-motion characteristics\n",
    "**Task:** Using the rate-and-state friction setup, change the nucleation radius from 1500 m to 700 m, and run the updated setup. Compare 3D earthquake dynamics of both setups by opening both fault output files in ParaView. Compare also the wavefield at the free surface in both simulations."
   ]
  }
 ],
 "metadata": {
  "kernelspec": {
   "display_name": "Python 3",
   "language": "python",
   "name": "python3"
  },
  "language_info": {
   "codemirror_mode": {
    "name": "ipython",
    "version": 3
   },
   "file_extension": ".py",
   "mimetype": "text/x-python",
   "name": "python",
   "nbconvert_exporter": "python",
   "pygments_lexer": "ipython3",
   "version": "3.7.3"
  }
 },
 "nbformat": 4,
 "nbformat_minor": 5
}
